{
 "cells": [
  {
   "cell_type": "code",
   "execution_count": 1,
   "metadata": {},
   "outputs": [
    {
     "name": "stdout",
     "output_type": "stream",
     "text": [
      "/Users/yinnnyou/workspace/medical_imaging_imbalancing/src/cifar_100\n"
     ]
    }
   ],
   "source": [
    "%load_ext autoreload\n",
    "%autoreload 2\n",
    "import os\n",
    "import sys\n",
    "from glob import glob\n",
    "from IPython import get_ipython\n",
    "\n",
    "ip = get_ipython()\n",
    "path = None\n",
    "if '__vsc_ipynb_file__' in ip.user_ns:\n",
    "    path = ip.user_ns['__vsc_ipynb_file__']\n",
    "nb_name = os.path.basename(path)\n",
    "\n",
    "nb_remote_path = [os.path.abspath(y) for x in os.walk('.') for y in glob(os.path.join(x[0], '*.ipynb')) if nb_name in y][0]\n",
    "os.chdir(os.path.dirname(nb_remote_path))\n",
    "print(os.getcwd())\n",
    "current_path = os.path.abspath('..')\n",
    "if current_path not in sys.path:\n",
    "    sys.path.insert(0, os.path.abspath('..'))"
   ]
  },
  {
   "cell_type": "code",
   "execution_count": 2,
   "metadata": {},
   "outputs": [
    {
     "name": "stderr",
     "output_type": "stream",
     "text": [
      "/Users/yinnnyou/anaconda3/envs/data_aug_3115/lib/python3.11/site-packages/tqdm/auto.py:21: TqdmWarning: IProgress not found. Please update jupyter and ipywidgets. See https://ipywidgets.readthedocs.io/en/stable/user_install.html\n",
      "  from .autonotebook import tqdm as notebook_tqdm\n"
     ]
    }
   ],
   "source": [
    "import torch\n",
    "from cifar_100.cifar_dataset import CIFAR100, CIFAR100DataModule\n",
    "from torch.utils.data import DataLoader\n",
    "import lightning as L\n",
    "import torch.nn.functional as F\n",
    "import torch.nn as nn\n",
    "from lightning.pytorch.tuner import Tuner\n",
    "from utils.lightning_model import LightningClassifier"
   ]
  },
  {
   "cell_type": "markdown",
   "metadata": {},
   "source": [
    "### Pytorch"
   ]
  },
  {
   "cell_type": "code",
   "execution_count": 6,
   "metadata": {},
   "outputs": [
    {
     "name": "stderr",
     "output_type": "stream",
     "text": [
      "GPU available: True (mps), used: True\n",
      "TPU available: False, using: 0 TPU cores\n",
      "IPU available: False, using: 0 IPUs\n",
      "HPU available: False, using: 0 HPUs\n"
     ]
    },
    {
     "name": "stdout",
     "output_type": "stream",
     "text": [
      "Files already downloaded and verified\n"
     ]
    },
    {
     "name": "stderr",
     "output_type": "stream",
     "text": [
      "\n",
      "  | Name    | Type             | Params\n",
      "---------------------------------------------\n",
      "0 | model   | ResNet           | 23.7 M\n",
      "1 | loss_fn | CrossEntropyLoss | 0     \n",
      "---------------------------------------------\n",
      "23.7 M    Trainable params\n",
      "0         Non-trainable params\n",
      "23.7 M    Total params\n",
      "94.852    Total estimated model params size (MB)\n"
     ]
    },
    {
     "name": "stdout",
     "output_type": "stream",
     "text": [
      "Epoch 0:   0%|          | 0/157 [00:00<?, ?it/s]                           "
     ]
    },
    {
     "name": "stderr",
     "output_type": "stream",
     "text": [
      "/Users/yinnnyou/anaconda3/envs/data_aug_3115/lib/python3.11/site-packages/lightning/pytorch/trainer/call.py:54: Detected KeyboardInterrupt, attempting graceful shutdown...\n"
     ]
    }
   ],
   "source": [
    "model = LightningClassifier('pytorch_resnet50', 100)\n",
    "\n",
    "dm = CIFAR100DataModule(batch_size=256)\n",
    "\n",
    "# train model\n",
    "trainer = L.Trainer(max_epochs=50)\n",
    "# tuner = Tuner(trainer)\n",
    "# print('LR before:', model.lr)\n",
    "# lr_finder = tuner.lr_find(model, attr_name=\"lr\", datamodule=dm)\n",
    "# print('LR after:', model.lr)\n",
    "\n",
    "# Plot with\n",
    "# fig = lr_finder.plot(suggest=True)\n",
    "# fig.show()\n",
    "trainer.fit(model, datamodule=dm)"
   ]
  },
  {
   "cell_type": "markdown",
   "metadata": {},
   "source": [
    "### Timm"
   ]
  },
  {
   "cell_type": "code",
   "execution_count": null,
   "metadata": {},
   "outputs": [],
   "source": [
    "model = LightningClassifier('timm_mixer_b16_224_in21k', 100)\n",
    "\n",
    "# train model\n",
    "trainer = L.Trainer()\n",
    "# tuner = Tuner(trainer)\n",
    "# print('LR before:', model.lr)\n",
    "# lr_finder = tuner.lr_find(model, attr_name=\"lr\", \n",
    "#               train_dataloaders=train_loader, val_dataloaders=valid_loader)\n",
    "\n",
    "# Plot with\n",
    "# print('LR after:', model.lr)\n",
    "# fig = lr_finder.plot(suggest=True)\n",
    "# fig.show()\n",
    "trainer.fit(model=model, \n",
    "            train_dataloaders=train_loader)"
   ]
  }
 ],
 "metadata": {
  "kernelspec": {
   "display_name": "data_aug_3115",
   "language": "python",
   "name": "python3"
  },
  "language_info": {
   "codemirror_mode": {
    "name": "ipython",
    "version": 3
   },
   "file_extension": ".py",
   "mimetype": "text/x-python",
   "name": "python",
   "nbconvert_exporter": "python",
   "pygments_lexer": "ipython3",
   "version": "3.11.5"
  }
 },
 "nbformat": 4,
 "nbformat_minor": 2
}
