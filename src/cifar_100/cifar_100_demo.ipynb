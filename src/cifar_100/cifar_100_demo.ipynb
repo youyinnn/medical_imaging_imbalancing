{
 "cells": [
  {
   "cell_type": "code",
   "execution_count": 1,
   "metadata": {},
   "outputs": [
    {
     "name": "stdout",
     "output_type": "stream",
     "text": [
      "/Users/yinnnyou/workspace/medical_imaging_imbalancing/src/cifar_100\n"
     ]
    }
   ],
   "source": [
    "%load_ext autoreload\n",
    "%autoreload 2\n",
    "import os\n",
    "import sys\n",
    "from glob import glob\n",
    "from IPython import get_ipython\n",
    "\n",
    "ip = get_ipython()\n",
    "path = None\n",
    "if '__vsc_ipynb_file__' in ip.user_ns:\n",
    "    path = ip.user_ns['__vsc_ipynb_file__']\n",
    "nb_name = os.path.basename(path)\n",
    "\n",
    "nb_remote_path = [os.path.abspath(y) for x in os.walk('.') for y in glob(os.path.join(x[0], '*.ipynb')) if nb_name in y][0]\n",
    "os.chdir(os.path.dirname(nb_remote_path))\n",
    "print(os.getcwd())\n",
    "current_path = os.path.abspath('..')\n",
    "if current_path not in sys.path:\n",
    "    sys.path.insert(0, os.path.abspath('..'))"
   ]
  },
  {
   "cell_type": "code",
   "execution_count": 2,
   "metadata": {},
   "outputs": [],
   "source": [
    "import torch\n",
    "from cifar_100.cifar_dataset import CIFAR100, CIFAR100DataModule\n",
    "from lightning.pytorch.demos.boring_classes import DemoModel, BoringDataModule\n",
    "from torch.utils.data import DataLoader\n",
    "import lightning as L\n",
    "import torch.nn.functional as F\n",
    "import torch.nn as nn\n",
    "from lightning.pytorch.tuner import Tuner\n",
    "from utils.lightning_model import LightningClassifier"
   ]
  },
  {
   "cell_type": "markdown",
   "metadata": {},
   "source": [
    "### Pytorch"
   ]
  },
  {
   "cell_type": "code",
   "execution_count": 6,
   "metadata": {},
   "outputs": [
    {
     "name": "stderr",
     "output_type": "stream",
     "text": [
      "GPU available: True (mps), used: True\n",
      "TPU available: False, using: 0 TPU cores\n",
      "IPU available: False, using: 0 IPUs\n",
      "HPU available: False, using: 0 HPUs\n"
     ]
    },
    {
     "name": "stdout",
     "output_type": "stream",
     "text": [
      "LR before: 0.001\n",
      "Files already downloaded and verified\n",
      "0\n"
     ]
    },
    {
     "data": {
      "application/vnd.jupyter.widget-view+json": {
       "model_id": "92e373db713f4c73a75fbbd8b65b32b2",
       "version_major": 2,
       "version_minor": 0
      },
      "text/plain": [
       "Finding best initial lr:   0%|          | 0/313 [00:00<?, ?it/s]"
      ]
     },
     "metadata": {},
     "output_type": "display_data"
    },
    {
     "name": "stdout",
     "output_type": "stream",
     "text": [
      "0\n",
      "309\n",
      "310\n",
      "0\n"
     ]
    },
    {
     "name": "stderr",
     "output_type": "stream",
     "text": [
      "`Trainer.fit` stopped: `max_steps=313` reached.\n",
      "Learning rate set to 0.0007617090882816208\n",
      "Restoring states from the checkpoint path at /Users/yinnnyou/workspace/medical_imaging_imbalancing/src/cifar_100/.lr_find_d5fbcb7e-f034-4a53-9c29-d1dd1feba676.ckpt\n",
      "Restored all states from the checkpoint at /Users/yinnnyou/workspace/medical_imaging_imbalancing/src/cifar_100/.lr_find_d5fbcb7e-f034-4a53-9c29-d1dd1feba676.ckpt\n"
     ]
    },
    {
     "name": "stdout",
     "output_type": "stream",
     "text": [
      "LR after: 0.0007617090882816208\n"
     ]
    },
    {
     "ename": "",
     "evalue": "",
     "output_type": "error",
     "traceback": [
      "\u001b[1;31mThe Kernel crashed while executing code in the the current cell or a previous cell. Please review the code in the cell(s) to identify a possible cause of the failure. Click <a href='https://aka.ms/vscodeJupyterKernelCrash'>here</a> for more info. View Jupyter <a href='command:jupyter.viewOutput'>log</a> for further details."
     ]
    }
   ],
   "source": [
    "dm = CIFAR100DataModule(batch_size=128, img_size=32)\n",
    "model = LightningClassifier('pytorch_resnet50', 100, lr=1e-3)\n",
    "\n",
    "dm.setup('fit')\n",
    "i = len(dm.train_dataloader())\n",
    "\n",
    "# train model\n",
    "trainer = L.Trainer(max_epochs=50)\n",
    "tuner = Tuner(trainer)\n",
    "print('LR before:', model.lr)\n",
    "lr_finder = tuner.lr_find(model, attr_name=\"lr\", datamodule=dm, num_training=i)\n",
    "print('LR after:', model.lr)\n",
    "\n",
    "# fig = lr_finder.plot(suggest=True)\n",
    "# fig.show()"
   ]
  },
  {
   "cell_type": "code",
   "execution_count": null,
   "metadata": {},
   "outputs": [],
   "source": [
    "# trainer.fit(model, datamodule=dm)"
   ]
  },
  {
   "cell_type": "markdown",
   "metadata": {},
   "source": [
    "### Timm"
   ]
  },
  {
   "cell_type": "code",
   "execution_count": 3,
   "metadata": {},
   "outputs": [
    {
     "name": "stderr",
     "output_type": "stream",
     "text": [
      "/root/miniconda3/envs/aaa/lib/python3.11/site-packages/timm/models/_factory.py:117: UserWarning: Mapping deprecated model name mixer_b16_224_in21k to current mixer_b16_224.goog_in21k_ft_in1k.\n",
      "  model = create_fn(\n",
      "GPU available: True (cuda), used: True\n",
      "TPU available: False, using: 0 TPU cores\n",
      "IPU available: False, using: 0 IPUs\n",
      "HPU available: False, using: 0 HPUs\n",
      "/root/miniconda3/envs/aaa/lib/python3.11/site-packages/lightning/pytorch/loops/utilities.py:73: `max_epochs` was not set. Setting it to 1000 epochs. To train without an epoch limit, set `max_epochs=-1`.\n"
     ]
    },
    {
     "name": "stdout",
     "output_type": "stream",
     "text": [
      "LR before: 0.001\n",
      "Files already downloaded and verified\n"
     ]
    },
    {
     "name": "stderr",
     "output_type": "stream",
     "text": [
      "You are using a CUDA device ('NVIDIA GeForce RTX 4090') that has Tensor Cores. To properly utilize them, you should set `torch.set_float32_matmul_precision('medium' | 'high')` which will trade-off precision for performance. For more details, read https://pytorch.org/docs/stable/generated/torch.set_float32_matmul_precision.html#torch.set_float32_matmul_precision\n",
      "LOCAL_RANK: 0 - CUDA_VISIBLE_DEVICES: [0]\n"
     ]
    },
    {
     "data": {
      "application/vnd.jupyter.widget-view+json": {
       "model_id": "a72f30724cb04d1b8376bb5f6563b18b",
       "version_major": 2,
       "version_minor": 0
      },
      "text/plain": [
       "Finding best initial lr:   0%|          | 0/100 [00:00<?, ?it/s]"
      ]
     },
     "metadata": {},
     "output_type": "display_data"
    },
    {
     "name": "stderr",
     "output_type": "stream",
     "text": [
      "LR finder stopped early after 99 steps due to diverging loss.\n",
      "Learning rate set to 0.000363078054770101\n",
      "Restoring states from the checkpoint path at /root/medical_imaging_imbalancing/src/cifar_100/.lr_find_0c11238d-ae1b-4fa0-b6e7-8e7bf975abd5.ckpt\n",
      "Restored all states from the checkpoint at /root/medical_imaging_imbalancing/src/cifar_100/.lr_find_0c11238d-ae1b-4fa0-b6e7-8e7bf975abd5.ckpt\n"
     ]
    },
    {
     "data": {
      "image/png": "[encoded data removed]",
      "text/plain": [
       "<Figure size 640x480 with 1 Axes>"
      ]
     },
     "metadata": {},
     "output_type": "display_data"
    }
   ],
   "source": [
    "dm2 = CIFAR100DataModule(batch_size=64, data_dir='~/cifar-100')\n",
    "\n",
    "model = LightningClassifier('timm_mixer_b16_224_in21k', 100)\n",
    "\n",
    "# train model\n",
    "trainer = L.Trainer()\n",
    "tuner = Tuner(trainer)\n",
    "print('LR before:', model.lr)\n",
    "lr_finder = tuner.lr_find(model, attr_name=\"lr\", datamodule=dm2)\n",
    "\n",
    "# Plot with\n",
    "# print('LR after:', model.lr)\n",
    "fig = lr_finder.plot(suggest=True)\n",
    "fig.show()\n",
    "# trainer.fit(model=model, \n",
    "#             train_dataloaders=train_loader)"
   ]
  },
  {
   "cell_type": "code",
   "execution_count": 4,
   "metadata": {},
   "outputs": [
    {
     "name": "stdout",
     "output_type": "stream",
     "text": [
      "Files already downloaded and verified\n"
     ]
    },
    {
     "name": "stderr",
     "output_type": "stream",
     "text": [
      "LOCAL_RANK: 0 - CUDA_VISIBLE_DEVICES: [0]\n",
      "\n",
      "  | Name    | Type             | Params\n",
      "---------------------------------------------\n",
      "0 | model   | MlpMixer         | 59.2 M\n",
      "1 | loss_fn | CrossEntropyLoss | 0     \n",
      "---------------------------------------------\n",
      "59.2 M    Trainable params\n",
      "0         Non-trainable params\n",
      "59.2 M    Total params\n",
      "236.753   Total estimated model params size (MB)\n"
     ]
    },
    {
     "data": {
      "application/vnd.jupyter.widget-view+json": {
       "model_id": "acd12a4d6dd24c808832dfe8a85edf2c",
       "version_major": 2,
       "version_minor": 0
      },
      "text/plain": [
       "Sanity Checking: |          | 0/? [00:00<?, ?it/s]"
      ]
     },
     "metadata": {},
     "output_type": "display_data"
    },
    {
     "data": {
      "application/vnd.jupyter.widget-view+json": {
       "model_id": "8b9b0d08e3b942728016ce4a7c3c69a9",
       "version_major": 2,
       "version_minor": 0
      },
      "text/plain": [
       "Training: |          | 0/? [00:00<?, ?it/s]"
      ]
     },
     "metadata": {},
     "output_type": "display_data"
    },
    {
     "name": "stderr",
     "output_type": "stream",
     "text": [
      "/root/miniconda3/envs/aaa/lib/python3.11/site-packages/lightning/pytorch/trainer/call.py:54: Detected KeyboardInterrupt, attempting graceful shutdown...\n"
     ]
    }
   ],
   "source": [
    "# trainer.fit(model, datamodule=dm2)"
   ]
  }
 ],
 "metadata": {
  "kernelspec": {
   "display_name": "data_aug_3115",
   "language": "python",
   "name": "python3"
  },
  "language_info": {
   "codemirror_mode": {
    "name": "ipython",
    "version": 3
   },
   "file_extension": ".py",
   "mimetype": "text/x-python",
   "name": "python",
   "nbconvert_exporter": "python",
   "pygments_lexer": "ipython3",
   "version": "3.11.5"
  }
 },
 "nbformat": 4,
 "nbformat_minor": 2
}
