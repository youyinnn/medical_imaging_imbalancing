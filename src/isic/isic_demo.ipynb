{
 "cells": [
  {
   "cell_type": "code",
   "execution_count": null,
   "metadata": {},
   "outputs": [],
   "source": [
    "%load_ext autoreload\n",
    "%autoreload 2\n",
    "import os\n",
    "import sys\n",
    "if 'google.colab' in sys.modules:\n",
    "    %pip install -q skorch\n",
    "    !git clone https://github.com/youyinnn/medical_imaging_imbalancing.git\n",
    "    %cd /content/medical_imaging_imbalancing/src/isic\n",
    "sys.path.insert(0, os.path.abspath('..'))"
   ]
  },
  {
   "cell_type": "code",
   "execution_count": null,
   "metadata": {},
   "outputs": [],
   "source": [
    "from utils.resnet_model import ResNet18, ResNet50, ResNet34\n",
    "import utils.skorch_trainer as isic_skorch_trainer\n",
    "from isic_dataset import ISIC_2018\n",
    "import torchvision.transforms as transforms\n",
    "\n",
    "from utils.skorch_trainer import ResetedSkorchLRScheduler\n",
    "from sklearn.metrics import top_k_accuracy_score\n",
    "from torchvision.transforms import v2\n",
    "\n",
    "\n",
    "import torch\n",
    "import torch.nn as nn\n",
    "import torch.optim as optim\n",
    "import numpy as np\n",
    "\n",
    "# torch.manual_seed(42);\n",
    "\n",
    "isic_train = ISIC_2018(verbose=1)\n",
    "isic_val = ISIC_2018(split='val', verbose=1)\n",
    "\n",
    "isic_train_128 = ISIC_2018(size=(128, 128))\n",
    "isic_val_128 = ISIC_2018(split='val', size=(128, 128))\n",
    "\n",
    "isic_train_32 = ISIC_2018(size=(32, 32))\n",
    "isic_val_32 = ISIC_2018(split='val', size=(32, 32))\n",
    "\n",
    "isic_train_448 = ISIC_2018(size=(448))\n",
    "isic_val_448 = ISIC_2018(split='val', size=(448))\n",
    "\n",
    "isic_train_cutmixed = ISIC_2018(cut_mixed=True)"
   ]
  },
  {
   "cell_type": "markdown",
   "metadata": {},
   "source": [
    "### 18_256"
   ]
  },
  {
   "cell_type": "code",
   "execution_count": null,
   "metadata": {},
   "outputs": [
    {
     "ename": "",
     "evalue": "",
     "output_type": "error",
     "traceback": [
      "\u001b[1;31mThe Kernel crashed while executing code in the the current cell or a previous cell. Please review the code in the cell(s) to identify a possible cause of the failure. Click <a href='https://aka.ms/vscodeJupyterKernelCrash'>here</a> for more info. View Jupyter <a href='command:jupyter.viewOutput'>log</a> for further details."
     ]
    }
   ],
   "source": [
    "max_epochs = 150\n",
    "lr = 0.01\n",
    "\n",
    "net_18_256_no_lrsc = isic_skorch_trainer.net_fit(\n",
    "    isic_skorch_trainer.net_def(\n",
    "        ResNet18, \n",
    "        net_name = '18_256_no_lrsc',\n",
    "        classes=[torch.tensor, torch.tensor],    \n",
    "        classifier_kwargs = dict(\n",
    "            lr = lr,\n",
    "            module__output_features = 7,\n",
    "            train_split = isic_val,\n",
    "            callbacks = []\n",
    "            )\n",
    "        ), \n",
    "isic_train, None, max_epochs)"
   ]
  },
  {
   "cell_type": "code",
   "execution_count": null,
   "metadata": {},
   "outputs": [],
   "source": [
    "max_epochs = 150\n",
    "lr = 0.01\n",
    "\n",
    "net_18_256 = isic_skorch_trainer.net_fit(\n",
    "    isic_skorch_trainer.net_def(\n",
    "        ResNet18, \n",
    "        net_name = '18_256',\n",
    "        classes=[torch.tensor, torch.tensor],    \n",
    "        classifier_kwargs = dict(\n",
    "            lr = lr,\n",
    "            module__output_features = 7,\n",
    "            train_split = isic_val,\n",
    "            callbacks = [\n",
    "                ResetedSkorchLRScheduler(\n",
    "                    'valid_f1', ['valid_acc', 'valid_f1'], 10,\n",
    "                    policy='StepLR', step_size=7, last_epoch = -1\n",
    "                )]\n",
    "            )\n",
    "        ), \n",
    "isic_train, None, max_epochs)"
   ]
  },
  {
   "cell_type": "code",
   "execution_count": null,
   "metadata": {},
   "outputs": [],
   "source": [
    "max_epochs = 100\n",
    "lr = 0.01\n",
    "\n",
    "t1 = v2.Compose([\n",
    "    v2.RandomChoice([v2.RandomPerspective(distortion_scale=0.1, p=0.8), v2.RandomRotation(degrees=(0, 360))])\n",
    "])\n",
    "\n",
    "net_18_256_t1 = isic_skorch_trainer.net_fit(\n",
    "    isic_skorch_trainer.net_def(\n",
    "        ResNet18, \n",
    "        net_name = '18_256_t1',\n",
    "        classes=[torch.tensor, torch.tensor],    \n",
    "        classifier_kwargs = dict(\n",
    "            lr = lr,\n",
    "            module__output_features = 7,\n",
    "            train_split = isic_val,\n",
    "            callbacks = []\n",
    "            )\n",
    "        ), \n",
    "ISIC_2018(transform=t1), None, max_epochs)"
   ]
  },
  {
   "cell_type": "code",
   "execution_count": null,
   "metadata": {},
   "outputs": [],
   "source": [
    "max_epochs = 100\n",
    "lr = 0.01\n",
    "\n",
    "t2 = transforms.Compose([\n",
    "    v2.RandomChoice([\n",
    "        v2.ColorJitter(),\n",
    "        v2.GaussianBlur(kernel_size=(5, 9), sigma=(0.1, 5.))\n",
    "    ])\n",
    "])\n",
    "\n",
    "net_18_256_t2 = isic_skorch_trainer.net_fit(\n",
    "    isic_skorch_trainer.net_def(\n",
    "        ResNet18, \n",
    "        net_name = '18_256_t2',\n",
    "        classes=[torch.tensor, torch.tensor],    \n",
    "        classifier_kwargs = dict(\n",
    "            lr = lr,\n",
    "            module__output_features = 7,\n",
    "            train_split = isic_val,\n",
    "            callbacks = []\n",
    "            )\n",
    "        ), \n",
    "ISIC_2018(transform=t2), None, max_epochs)"
   ]
  },
  {
   "cell_type": "markdown",
   "metadata": {},
   "source": [
    "### 34_256"
   ]
  },
  {
   "cell_type": "code",
   "execution_count": null,
   "metadata": {},
   "outputs": [],
   "source": [
    "net_2 = isic_skorch_trainer.net_fit(\n",
    "    isic_skorch_trainer.net_def(\n",
    "        ResNet34, \n",
    "        net_name = '34_256',\n",
    "        classes=[torch.tensor, torch.tensor],    \n",
    "        classifier_kwargs = dict(\n",
    "            lr = 0.01,\n",
    "            module__output_features = 7,\n",
    "            train_split = isic_val,\n",
    "            callbacks = [\n",
    "                ResetedSkorchLRScheduler(\n",
    "                    'valid_f1', ['valid_acc', 'valid_f1'],20,\n",
    "                    policy='StepLR', step_size=7, last_epoch = -1\n",
    "                )]\n",
    "            )\n",
    "        ), \n",
    "isic_train, None, 0)"
   ]
  },
  {
   "cell_type": "markdown",
   "metadata": {},
   "source": [
    "### CutMix"
   ]
  },
  {
   "cell_type": "code",
   "execution_count": null,
   "metadata": {},
   "outputs": [],
   "source": [
    "max_epochs = 100\n",
    "lr = 0.01\n",
    "\n",
    "net_18_256_cutmix_no_lrsc = isic_skorch_trainer.net_def(\n",
    "    ResNet18, \n",
    "    net_name = '18_256_cutmix_no_lrsc',\n",
    "    classes=[torch.tensor, torch.tensor],    \n",
    "    classifier_kwargs = dict(\n",
    "        lr = lr,\n",
    "        module__output_features = 7,\n",
    "        train_split = isic_val,\n",
    "        callbacks = []\n",
    "    ),\n",
    "    cut_mixed=True\n",
    ")\n",
    "\n",
    "net_1_for_cutmixed = isic_skorch_trainer.net_fit(\n",
    "    net_18_256_cutmix_no_lrsc, isic_train_cutmixed, None, max_epochs)"
   ]
  },
  {
   "cell_type": "markdown",
   "metadata": {},
   "source": [
    "### CutOut"
   ]
  },
  {
   "cell_type": "code",
   "execution_count": null,
   "metadata": {},
   "outputs": [],
   "source": [
    "max_epochs = 100\n",
    "lr = 0.01\n",
    "from isic_dataset import CutOut\n",
    "\n",
    "cutout = v2.Compose([\n",
    "    CutOut(p=0.7)\n",
    "])\n",
    "\n",
    "net_18_256_cutout = isic_skorch_trainer.net_fit(\n",
    "    isic_skorch_trainer.net_def(\n",
    "        ResNet18, \n",
    "        net_name = '18_256_cutout',\n",
    "        classes=[torch.tensor, torch.tensor],    \n",
    "        classifier_kwargs = dict(\n",
    "            lr = lr,\n",
    "            module__output_features = 7,\n",
    "            train_split = isic_val,\n",
    "            callbacks = []\n",
    "            )\n",
    "        ), \n",
    "ISIC_2018(transform=cutout), None, max_epochs)"
   ]
  },
  {
   "cell_type": "markdown",
   "metadata": {},
   "source": [
    "### No Pre-train"
   ]
  },
  {
   "cell_type": "code",
   "execution_count": null,
   "metadata": {},
   "outputs": [],
   "source": [
    "max_epochs = 150\n",
    "lr = 0.01\n",
    "\n",
    "net_18_256_no_pret = isic_skorch_trainer.net_fit(\n",
    "    isic_skorch_trainer.net_def(\n",
    "        ResNet18, \n",
    "        net_name = '18_256_no_pret',\n",
    "        classes=[torch.tensor, torch.tensor],    \n",
    "        classifier_kwargs = dict(\n",
    "                lr = lr,\n",
    "                module__output_features = 7,\n",
    "                module__weights = None,\n",
    "                train_split = isic_val,\n",
    "                callbacks = []\n",
    "            )\n",
    "        ), \n",
    "isic_train, None, max_epochs)"
   ]
  },
  {
   "cell_type": "markdown",
   "metadata": {},
   "source": [
    "### Visual"
   ]
  },
  {
   "cell_type": "code",
   "execution_count": null,
   "metadata": {},
   "outputs": [],
   "source": [
    "import matplotlib.pyplot as plt\n",
    "\n",
    "# plt.imshow(isic_train_cutmixed[0][0][0].numpy().transpose(1,2,0) / 255)\n",
    "# plt.show()\n",
    "\n",
    "plt.imshow(isic_train[87][0].numpy().transpose(1,2,0) / 255)\n",
    "plt.show()"
   ]
  },
  {
   "cell_type": "code",
   "execution_count": null,
   "metadata": {},
   "outputs": [],
   "source": [
    "torch.randint(low=0, high=10, size=(1,)).item()"
   ]
  },
  {
   "cell_type": "markdown",
   "metadata": {},
   "source": [
    "### Demo"
   ]
  },
  {
   "cell_type": "code",
   "execution_count": null,
   "metadata": {},
   "outputs": [],
   "source": [
    "\n",
    "import torch\n",
    "from torch import nn\n",
    "import torch.nn.functional as F\n",
    "import numpy as np\n",
    "from sklearn.datasets import make_classification\n",
    "\n",
    "X, y = make_classification(1000, 20, n_informative=10, random_state=0)\n",
    "X, y = X.astype(np.float32), y.astype(np.int64)\n",
    "X.shape, y.shape, y.mean()\n",
    "\n",
    "class ClassifierModule(nn.Module):\n",
    "    def __init__(\n",
    "            self,\n",
    "            num_units=10,\n",
    "            nonlin=F.relu,\n",
    "            dropout=0.5,\n",
    "    ):\n",
    "        super(ClassifierModule, self).__init__()\n",
    "        self.num_units = num_units\n",
    "        self.nonlin = nonlin\n",
    "        self.dropout = dropout\n",
    "\n",
    "        self.dense0 = nn.Linear(20, num_units)\n",
    "        self.nonlin = nonlin\n",
    "        self.dropout = nn.Dropout(dropout)\n",
    "        self.dense1 = nn.Linear(num_units, 10)\n",
    "        self.output = nn.Linear(10, 2)\n",
    "\n",
    "    def forward(self, X, **kwargs):\n",
    "        X = self.nonlin(self.dense0(X))\n",
    "        X = self.dropout(X)\n",
    "        X = F.relu(self.dense1(X))\n",
    "        X = F.softmax(self.output(X), dim=-1)\n",
    "        return X"
   ]
  },
  {
   "cell_type": "code",
   "execution_count": null,
   "metadata": {},
   "outputs": [],
   "source": [
    "# net_2 = isic_skorch_trainer.net_fit(\n",
    "#     isic_skorch_trainer.net_def(\n",
    "#         ClassifierModule, \n",
    "#         net_name = 'eee',\n",
    "#         classes=[torch.tensor, torch.tensor],    \n",
    "#         classifier_kwargs = dict(\n",
    "#             lr = 0.001,\n",
    "#             train_split = isic_val_32,\n",
    "#             callbacks = [\n",
    "#                 ResetedSkorchLRScheduler('valid_f1', ['valid_acc', 'valid_f1', 'valid_loss'], 3,\n",
    "#                     policy='StepLR', step_size=3, last_epoch = -1)]\n",
    "#             )\n",
    "#         ), \n",
    "# isic_train_32, None, 30)\n",
    "from skorch import NeuralNetClassifier\n",
    "from skorch.callbacks import LRScheduler, EpochScoring, PrintLog\n",
    "from sklearn.metrics import top_k_accuracy_score\n",
    "\n",
    "net = NeuralNetClassifier(\n",
    "    ClassifierModule,\n",
    "    max_epochs=50,\n",
    "    lr=0.01,\n",
    "#     device='cuda',  # uncomment this to train with CUDA\n",
    "    device = 'mps', \n",
    "    callbacks = [\n",
    "        EpochScoring(scoring='f1_macro', name='valid_f1',\n",
    "                     lower_is_better=False),\n",
    "        # EpochScoring(scoring=lambda net, X, y:top_k_accuracy_score(y, net.predict(X), k=1), name='valid_top_k_acc',\n",
    "        #              lower_is_better=False),\n",
    "        ResetedSkorchLRScheduler('valid_f1', ['valid_acc', 'valid_f1'], 10,\n",
    "                    policy='StepLR', step_size=5, last_epoch = -1)\n",
    "    ]\n",
    ")\n",
    "\n",
    "# Training the network\n",
    "net.fit(X, y)"
   ]
  }
 ],
 "metadata": {
  "kernelspec": {
   "display_name": "xaifw",
   "language": "python",
   "name": "python3"
  },
  "language_info": {
   "codemirror_mode": {
    "name": "ipython",
    "version": 3
   },
   "file_extension": ".py",
   "mimetype": "text/x-python",
   "name": "python",
   "nbconvert_exporter": "python",
   "pygments_lexer": "ipython3",
   "version": "3.11.5"
  }
 },
 "nbformat": 4,
 "nbformat_minor": 2
}
