{
 "cells": [
  {
   "cell_type": "code",
   "execution_count": 5,
   "metadata": {},
   "outputs": [
    {
     "name": "stdout",
     "output_type": "stream",
     "text": [
      "The autoreload extension is already loaded. To reload it, use:\n",
      "  %reload_ext autoreload\n"
     ]
    }
   ],
   "source": [
    "%load_ext autoreload\n",
    "%autoreload 2\n",
    "import os\n",
    "os.sys.path.insert(0, '..') "
   ]
  },
  {
   "cell_type": "code",
   "execution_count": 19,
   "metadata": {},
   "outputs": [
    {
     "name": "stdout",
     "output_type": "stream",
     "text": [
      "MEL: 1113 (11.11%), NV: 6705 (66.95%), BCC: 514 (5.13%), AKIEC: 327 (3.27%), BKL: 1099 (10.97%), DF: 115 (1.15%), VASC: 142 (1.42%)\n",
      "MEL: 21 (10.88%), NV: 123 (63.73%), BCC: 15 (7.77%), AKIEC: 8 (4.15%), BKL: 22 (11.4%), DF: 1 (0.52%), VASC: 3 (1.55%)\n",
      "MEL: 1113 (11.11%), NV: 6705 (66.95%), BCC: 514 (5.13%), AKIEC: 327 (3.27%), BKL: 1099 (10.97%), DF: 115 (1.15%), VASC: 142 (1.42%)\n",
      "MEL: 21 (10.88%), NV: 123 (63.73%), BCC: 15 (7.77%), AKIEC: 8 (4.15%), BKL: 22 (11.4%), DF: 1 (0.52%), VASC: 3 (1.55%)\n",
      "MEL: 1113 (11.11%), NV: 6705 (66.95%), BCC: 514 (5.13%), AKIEC: 327 (3.27%), BKL: 1099 (10.97%), DF: 115 (1.15%), VASC: 142 (1.42%)\n",
      "MEL: 21 (10.88%), NV: 123 (63.73%), BCC: 15 (7.77%), AKIEC: 8 (4.15%), BKL: 22 (11.4%), DF: 1 (0.52%), VASC: 3 (1.55%)\n"
     ]
    }
   ],
   "source": [
    "from isic_resnet import ISICResNet18, ISICResNet50\n",
    "import isic_skorch_trainer\n",
    "from isic_dataset import ISIC_2018\n",
    "from skorch.callbacks import LRScheduler\n",
    "\n",
    "import torch\n",
    "import torch.nn as nn\n",
    "import torch.optim as optim\n",
    "import numpy as np\n",
    "\n",
    "# torch.manual_seed(42);\n",
    "\n",
    "isic_train = ISIC_2018()\n",
    "isic_val = ISIC_2018(split='val')\n",
    "\n",
    "isic_train_128 = ISIC_2018(size=(128, 128))\n",
    "isic_val_128 = ISIC_2018(split='val', size=(128, 128))\n",
    "\n",
    "isic_train_448 = ISIC_2018(size=(448))\n",
    "isic_val_448 = ISIC_2018(split='val', size=(448))"
   ]
  },
  {
   "cell_type": "code",
   "execution_count": 45,
   "metadata": {},
   "outputs": [
    {
     "name": "stdout",
     "output_type": "stream",
     "text": [
      "  epoch    train_loss    valid_acc    valid_f1    valid_loss    cp      dur\n",
      "-------  ------------  -----------  ----------  ------------  ----  -------\n",
      "      1        \u001b[36m0.6987\u001b[0m       \u001b[32m0.7824\u001b[0m      \u001b[35m0.5002\u001b[0m        \u001b[31m0.5686\u001b[0m     +  62.7291\n",
      "      2        \u001b[36m0.4422\u001b[0m       \u001b[32m0.8187\u001b[0m      \u001b[35m0.6827\u001b[0m        \u001b[31m0.5642\u001b[0m     +  57.4587\n",
      "      3        \u001b[36m0.3181\u001b[0m       0.7876      0.5844        \u001b[31m0.5620\u001b[0m        57.7062\n",
      "      4        \u001b[36m0.2122\u001b[0m       \u001b[32m0.8446\u001b[0m      0.6608        \u001b[31m0.5298\u001b[0m        57.8927\n",
      "      5        \u001b[36m0.1319\u001b[0m       0.7979      0.6118        0.7766        56.7864\n",
      "      6        \u001b[36m0.0604\u001b[0m       0.8135      0.6765        0.6551        56.6582\n",
      "      7        0.0693       0.8083      \u001b[35m0.7171\u001b[0m        0.9616     +  56.3597\n",
      "      8        \u001b[36m0.0490\u001b[0m       0.8342      0.6271        0.7999        54.1313\n",
      "      9        \u001b[36m0.0341\u001b[0m       0.8187      0.6581        0.6533        53.7822\n",
      "     10        \u001b[36m0.0158\u001b[0m       0.8238      0.7051        0.6773        56.8320\n",
      "     11        \u001b[36m0.0063\u001b[0m       0.8290      \u001b[35m0.7303\u001b[0m        0.6953     +  60.8137\n",
      "     12        \u001b[36m0.0042\u001b[0m       \u001b[32m0.8497\u001b[0m      \u001b[35m0.7939\u001b[0m        0.7640     +  54.9503\n",
      "     13        \u001b[36m0.0020\u001b[0m       0.8394      0.7169        0.6626        56.8922\n",
      "     14        \u001b[36m0.0010\u001b[0m       0.8497      0.7657        0.6921        55.4131\n",
      "     15        \u001b[36m0.0007\u001b[0m       0.8238      0.7143        0.6745        56.3522\n",
      "     16        \u001b[36m0.0003\u001b[0m       0.8497      0.7603        0.6958        54.5325\n",
      "     17        0.0004       0.8342      0.7263        0.7136        54.2277\n",
      "     18        \u001b[36m0.0003\u001b[0m       0.8497      0.7657        0.7004        54.7792\n",
      "     19        \u001b[36m0.0003\u001b[0m       0.8446      0.7492        0.6997        54.3023\n",
      "     20        0.0004       0.8446      0.7607        0.6819        54.2743\n"
     ]
    }
   ],
   "source": [
    "epochs = 200\n",
    "\n",
    "isic_skorch_trainer.net_fit(\n",
    "    isic_skorch_trainer.net_def(\n",
    "        ISICResNet18, \n",
    "        net_name = '18_256',\n",
    "        classes=[torch.tensor, torch.tensor],    \n",
    "        classifier_kwargs = dict(\n",
    "            lr = 0.005,\n",
    "            module__output_features = 7,\n",
    "            train_split = isic_val,\n",
    "            # callbacks = [\n",
    "            #     LRScheduler(policy='StepLR', step_size=7)]\n",
    "            )\n",
    "        ), \n",
    "isic_train, None, epochs)"
   ]
  },
  {
   "cell_type": "code",
   "execution_count": 8,
   "metadata": {},
   "outputs": [
    {
     "name": "stdout",
     "output_type": "stream",
     "text": [
      "18_448_\n"
     ]
    }
   ],
   "source": [
    "isic_skorch_trainer.net_fit(\n",
    "    isic_skorch_trainer.net_def(\n",
    "        ISICResNet18, \n",
    "        net_name = '18_448',\n",
    "        classes=[torch.tensor, torch.tensor],    \n",
    "        classifier_kwargs = dict(\n",
    "            lr = 0.001,\n",
    "            module__output_features = 7,\n",
    "            train_split = isic_val_448,)\n",
    "        ), \n",
    "isic_train_448, None, 0)"
   ]
  }
 ],
 "metadata": {
  "kernelspec": {
   "display_name": "xaifw",
   "language": "python",
   "name": "python3"
  },
  "language_info": {
   "codemirror_mode": {
    "name": "ipython",
    "version": 3
   },
   "file_extension": ".py",
   "mimetype": "text/x-python",
   "name": "python",
   "nbconvert_exporter": "python",
   "pygments_lexer": "ipython3",
   "version": "3.11.4"
  }
 },
 "nbformat": 4,
 "nbformat_minor": 2
}
