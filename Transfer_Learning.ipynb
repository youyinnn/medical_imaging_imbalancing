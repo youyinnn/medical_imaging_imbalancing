{
  "cells": [
    {
      "cell_type": "markdown",
      "metadata": {
        "id": "sLMSHWM-oiyf"
      },
      "source": [
        "# Transfer Learning with skorch"
      ]
    },
    {
      "cell_type": "markdown",
      "metadata": {
        "id": "2KJVmPqYoiyj"
      },
      "source": [
        "In this tutorial, you will learn how to train a neural network using transfer learning with the `skorch` API. Transfer learning uses a pretrained model to initialize a network. This tutorial converts the pure PyTorch approach described in [PyTorch's Transfer Learning Tutorial](https://pytorch.org/tutorials/beginner/transfer_learning_tutorial.html) to `skorch`.\n",
        "\n",
        "We will be using `torchvision` for this tutorial. Instructions on how to install `torchvision` for your platform can be found at https://pytorch.org.\n",
        "\n",
        "<table align=\"left\"><td>\n",
        "<a target=\"_blank\" href=\"https://colab.research.google.com/github/skorch-dev/skorch/blob/master/notebooks/Transfer_Learning.ipynb\">\n",
        "    <img src=\"https://www.tensorflow.org/images/colab_logo_32px.png\" />Run in Google Colab</a>  \n",
        "</td><td>\n",
        "<a target=\"_blank\" href=\"https://github.com/skorch-dev/skorch/blob/master/notebooks/Transfer_Learning.ipynb\"><img width=32px src=\"https://www.tensorflow.org/images/GitHub-Mark-32px.png\" />View source on GitHub</a></td></table>"
      ]
    },
    {
      "cell_type": "markdown",
      "metadata": {
        "id": "uFUihT98oiyp"
      },
      "source": [
        "**Note**: If you are running this in [a colab notebook](https://colab.research.google.com/github/skorch-dev/skorch/blob/master/notebooks/Transfer_Learning.ipynb), we recommend you enable a free GPU by going:\n",
        "\n",
        "> **Runtime**   →   **Change runtime type**   →   **Hardware Accelerator: GPU**\n",
        "\n",
        "If you are running in colab, you should install the dependencies and download the dataset by running the following cell:"
      ]
    },
    {
      "cell_type": "code",
      "execution_count": 1,
      "metadata": {},
      "outputs": [],
      "source": [
        "%load_ext autoreload\n",
        "%autoreload 2"
      ]
    },
    {
      "cell_type": "code",
      "execution_count": 2,
      "metadata": {
        "id": "i1U_Mi4gon2r"
      },
      "outputs": [],
      "source": [
        "import subprocess\n",
        "\n",
        "# Installation on Google Colab\n",
        "try:\n",
        "    import os\n",
        "    import google.colab\n",
        "    subprocess.run(['python', '-m', 'pip', 'install', 'skorch', 'torchvision'])\n",
        "    subprocess.run(['mkdir', '-p', 'datasets'])\n",
        "    subprocess.run(['wget', '-nc', '--no-check-certificate', 'https://download.pytorch.org/tutorial/hymenoptera_data.zip', '-P', 'datasets'])\n",
        "    subprocess.run(['unzip', '-u', 'datasets/hymenoptera_data.zip', '-d' 'datasets'])\n",
        "except ImportError:\n",
        "    pass"
      ]
    },
    {
      "cell_type": "code",
      "execution_count": 3,
      "metadata": {
        "id": "8EctsAZCoiyy"
      },
      "outputs": [],
      "source": [
        "import os\n",
        "from urllib import request\n",
        "from zipfile import ZipFile\n",
        "\n",
        "import torch\n",
        "import torch.nn as nn\n",
        "import torch.optim as optim\n",
        "import numpy as np\n",
        "from torchvision import datasets, models, transforms\n",
        "\n",
        "from skorch import NeuralNetClassifier\n",
        "from skorch.helper import predefined_split\n",
        "\n",
        "torch.manual_seed(360);"
      ]
    },
    {
      "cell_type": "markdown",
      "metadata": {
        "id": "_vaY9ew5oiy1"
      },
      "source": [
        "## Preparations"
      ]
    },
    {
      "cell_type": "markdown",
      "metadata": {
        "id": "Ybj2whoboiy3"
      },
      "source": [
        "Before we begin, lets download the data needed for this tutorial:"
      ]
    },
    {
      "cell_type": "code",
      "execution_count": 4,
      "metadata": {
        "colab": {
          "base_uri": "https://localhost:8080/"
        },
        "id": "vXrGCvunoiy4",
        "outputId": "ef77a125-cd7e-4c14-86c9-85b488f0badf"
      },
      "outputs": [
        {
          "name": "stdout",
          "output_type": "stream",
          "text": [
            "Data has been downloaded and extracted to data.\n"
          ]
        }
      ],
      "source": [
        "def download_and_extract_data(dataset_dir='data'):\n",
        "    data_zip = os.path.join(dataset_dir, 'hymenoptera_data.zip')\n",
        "    data_path = os.path.join(dataset_dir, 'hymenoptera_data')\n",
        "    url = \"https://download.pytorch.org/tutorial/hymenoptera_data.zip\"\n",
        "\n",
        "    if not os.path.exists(data_path):\n",
        "        if not os.path.exists(data_zip):\n",
        "            print(\"Starting to download data...\")\n",
        "            data = request.urlopen(url, timeout=15).read()\n",
        "            with open(data_zip, 'wb') as f:\n",
        "                f.write(data)\n",
        "\n",
        "        print(\"Starting to extract data...\")\n",
        "        with ZipFile(data_zip, 'r') as zip_f:\n",
        "            zip_f.extractall(dataset_dir)\n",
        "\n",
        "    print(\"Data has been downloaded and extracted to {}.\".format(dataset_dir))\n",
        "\n",
        "download_and_extract_data()"
      ]
    },
    {
      "cell_type": "markdown",
      "metadata": {
        "id": "V0K5OAKPoiy7"
      },
      "source": [
        "## The Problem"
      ]
    },
    {
      "cell_type": "markdown",
      "metadata": {
        "id": "m52cP6kaoiy8"
      },
      "source": [
        "We are going to train a neural network to classify **ants** and **bees**. The dataset consist of 120 training images and 75 validiation images for each class. First we create the training and validiation datasets:"
      ]
    },
    {
      "cell_type": "code",
      "execution_count": 5,
      "metadata": {
        "id": "y3lg-xiaoiy9"
      },
      "outputs": [],
      "source": [
        "data_dir = 'data/hymenoptera_data'\n",
        "train_transforms = transforms.Compose([\n",
        "    transforms.RandomResizedCrop(224),\n",
        "    transforms.RandomHorizontalFlip(),\n",
        "    transforms.ToTensor(),\n",
        "    transforms.Normalize([0.485, 0.456, 0.406],\n",
        "                         [0.229, 0.224, 0.225])\n",
        "])\n",
        "val_transforms = transforms.Compose([\n",
        "    transforms.Resize(256),\n",
        "    transforms.CenterCrop(224),\n",
        "    transforms.ToTensor(),\n",
        "    transforms.Normalize([0.485, 0.456, 0.406],\n",
        "                         [0.229, 0.224, 0.225])\n",
        "])\n",
        "\n",
        "train_ds = datasets.ImageFolder(\n",
        "    os.path.join(data_dir, 'train'), train_transforms)\n",
        "val_ds = datasets.ImageFolder(\n",
        "    os.path.join(data_dir, 'val'), val_transforms)"
      ]
    },
    {
      "cell_type": "markdown",
      "metadata": {
        "id": "qfbGs4wfoiy_"
      },
      "source": [
        "The train dataset includes data augmentation techniques such as cropping to size 224 and horizontal flips.The train and validiation datasets are normalized with mean: `[0.485, 0.456, 0.406]`, and standard deviation: `[0.229, 0.224, 0.225]`. These values are the means and standard deviations of the ImageNet images. We used these values because the pretrained model was trained on ImageNet."
      ]
    },
    {
      "cell_type": "markdown",
      "metadata": {
        "id": "APIEJMARoizA"
      },
      "source": [
        "## Loading pretrained model"
      ]
    },
    {
      "cell_type": "markdown",
      "metadata": {
        "id": "TUNjvYdwoizA"
      },
      "source": [
        "We use a pretrained `ResNet18` neural network model with its final layer replaced with a fully connected layer:"
      ]
    },
    {
      "cell_type": "code",
      "execution_count": 6,
      "metadata": {
        "id": "cegvloOPoizB"
      },
      "outputs": [],
      "source": [
        "class PretrainedModel(nn.Module):\n",
        "    def __init__(self, output_features):\n",
        "        super().__init__()\n",
        "        model = models.resnet18(pretrained=True)\n",
        "        num_ftrs = model.fc.in_features\n",
        "        model.fc = nn.Linear(num_ftrs, output_features)\n",
        "        self.model = model\n",
        "\n",
        "    def forward(self, x):\n",
        "        return self.model(x)"
      ]
    },
    {
      "cell_type": "markdown",
      "metadata": {
        "id": "al8ehonloizD"
      },
      "source": [
        "Since we are training a binary classifier, the output of the final fully connected layer has size 2."
      ]
    },
    {
      "cell_type": "markdown",
      "metadata": {
        "id": "vNmUTqT6oizD"
      },
      "source": [
        "## Using skorch's API"
      ]
    },
    {
      "cell_type": "markdown",
      "metadata": {
        "id": "j2hJ-CUUoizE"
      },
      "source": [
        "In this section, we will create a `skorch.NeuralNetClassifier` to solve our classification problem."
      ]
    },
    {
      "cell_type": "markdown",
      "metadata": {
        "id": "ob1FqKNloizF"
      },
      "source": [
        "### Callbacks"
      ]
    },
    {
      "cell_type": "markdown",
      "metadata": {
        "id": "aHVRYecRoizF"
      },
      "source": [
        "First, we create a `LRScheduler` callback which is a learning rate scheduler that uses `torch.optim.lr_scheduler.StepLR` to scale learning rates by `gamma=0.1` every 7 steps:"
      ]
    },
    {
      "cell_type": "code",
      "execution_count": 7,
      "metadata": {
        "id": "ZJEUie2VoizG"
      },
      "outputs": [],
      "source": [
        "from skorch.callbacks import LRScheduler\n",
        "\n",
        "lrscheduler = LRScheduler(\n",
        "    policy='StepLR', step_size=7, gamma=0.1)"
      ]
    },
    {
      "cell_type": "markdown",
      "metadata": {
        "id": "Bli6ngl5oizG"
      },
      "source": [
        "Next, we create a `Checkpoint` callback which saves the best model by by monitoring the validation accuracy."
      ]
    },
    {
      "cell_type": "code",
      "execution_count": 8,
      "metadata": {
        "id": "rGPmqqhWoizH"
      },
      "outputs": [],
      "source": [
        "from skorch.callbacks import Checkpoint\n",
        "\n",
        "checkpoint = Checkpoint(\n",
        "    f_params='best_model.pt', monitor='valid_acc_best')"
      ]
    },
    {
      "cell_type": "markdown",
      "metadata": {
        "id": "XQS39O_GoizJ"
      },
      "source": [
        "Lastly, we create a `Freezer` to freeze all weights besides the final layer named `model.fc`:"
      ]
    },
    {
      "cell_type": "code",
      "execution_count": 9,
      "metadata": {
        "id": "kXOe41FBoizJ"
      },
      "outputs": [],
      "source": [
        "from skorch.callbacks import Freezer\n",
        "\n",
        "freezer = Freezer(lambda x: not x.startswith('model.fc'))"
      ]
    },
    {
      "cell_type": "markdown",
      "metadata": {
        "id": "4_JqX5wEoizK"
      },
      "source": [
        "### skorch.NeuralNetClassifier"
      ]
    },
    {
      "cell_type": "markdown",
      "metadata": {
        "id": "2ahqnHCZoizL"
      },
      "source": [
        "With all the preparations out of the way, we can now define our `NeuralNetClassifier`:"
      ]
    },
    {
      "cell_type": "code",
      "execution_count": 10,
      "metadata": {
        "id": "xQCwRTaZoizL"
      },
      "outputs": [],
      "source": [
        "net = NeuralNetClassifier(\n",
        "    PretrainedModel,\n",
        "    criterion=nn.CrossEntropyLoss,\n",
        "    lr=0.001,\n",
        "    batch_size=4,\n",
        "    max_epochs=25,\n",
        "    module__output_features=2,\n",
        "    optimizer=optim.SGD,\n",
        "    optimizer__momentum=0.9,\n",
        "    iterator_train__shuffle=True,\n",
        "    iterator_train__num_workers=2,\n",
        "    iterator_valid__num_workers=2,\n",
        "    train_split=predefined_split(val_ds),\n",
        "    callbacks=[lrscheduler, checkpoint, freezer],\n",
        "    classes=[torch.tensor, int],\n",
        "    # device='cuda' # comment to train on cpu\n",
        "    device='mps'\n",
        ")"
      ]
    },
    {
      "cell_type": "markdown",
      "metadata": {
        "id": "ZggANL3DoizL"
      },
      "source": [
        "That is quite a few parameters! Lets walk through each one:\n",
        "\n",
        "1. `model_ft`: Our `ResNet18` neural network\n",
        "2. `criterion=nn.CrossEntropyLoss`: loss function\n",
        "3. `lr`: Initial learning rate\n",
        "4. `batch_size`: Size of a batch\n",
        "5. `max_epochs`: Number of epochs to train\n",
        "6. `module__output_features`: Used by `__init__` in our `PretrainedModel` class to set the number of classes.\n",
        "7. `optimizer`: Our optimizer\n",
        "8. `optimizer__momentum`: The initial momentum\n",
        "9. `iterator_{train,valid}__{shuffle,num_workers}`: Parameters that are passed to the dataloader.\n",
        "10. `train_split`: A wrapper around `val_ds` to use our validation dataset.\n",
        "11. `callbacks`: Our callbacks\n",
        "12. `device`: Set to `cuda` to train on gpu.\n",
        "\n",
        "Now we are ready to train our neural network:"
      ]
    },
    {
      "cell_type": "code",
      "execution_count": null,
      "metadata": {
        "colab": {
          "base_uri": "https://localhost:8080/"
        },
        "id": "sYjoTUdyoizM",
        "outputId": "f0b0c3fd-88a4-415a-ee68-c880cf6c20b8"
      },
      "outputs": [],
      "source": [
        "net.fit(train_ds, y=None);"
      ]
    },
    {
      "cell_type": "markdown",
      "metadata": {
        "id": "bqhhXTKFoizN"
      },
      "source": [
        "The best model is stored at `best_model.pt`, with a validiation accuracy of roughly 0.96.\n",
        "\n",
        "Congrualations! You now know how to finetune a neural network using `skorch`. Feel free to explore the other tutorials to learn more about using `skorch`."
      ]
    },
    {
      "cell_type": "code",
      "execution_count": 11,
      "metadata": {
        "colab": {
          "base_uri": "https://localhost:8080/"
        },
        "id": "sBy8Oj84Jk-p",
        "outputId": "d0b2e1c7-f3e6-4439-a521-ce4bb649a22b"
      },
      "outputs": [
        {
          "data": {
            "text/plain": [
              "Dataset ImageFolder\n",
              "    Number of datapoints: 244\n",
              "    Root location: datasets/hymenoptera_data/train\n",
              "    StandardTransform\n",
              "Transform: Compose(\n",
              "               RandomResizedCrop(size=(224, 224), scale=(0.08, 1.0), ratio=(0.75, 1.3333), interpolation=bilinear, antialias=warn)\n",
              "               RandomHorizontalFlip(p=0.5)\n",
              "               ToTensor()\n",
              "               Normalize(mean=[0.485, 0.456, 0.406], std=[0.229, 0.224, 0.225])\n",
              "           )"
            ]
          },
          "execution_count": 11,
          "metadata": {},
          "output_type": "execute_result"
        }
      ],
      "source": [
        "train_ds"
      ]
    },
    {
      "cell_type": "code",
      "execution_count": 13,
      "metadata": {
        "colab": {
          "base_uri": "https://localhost:8080/"
        },
        "id": "OGdRfDD0J5xX",
        "outputId": "76598800-6984-4c8b-8fc6-3cdc1ff94150"
      },
      "outputs": [
        {
          "data": {
            "text/plain": [
              "(tensor([[[-0.6109, -0.6109, -0.5938,  ..., -0.7137, -0.7137, -0.7137],\n",
              "          [-0.6281, -0.6281, -0.6281,  ..., -0.7308, -0.6965, -0.7137],\n",
              "          [-0.6452, -0.6623, -0.6794,  ..., -0.7308, -0.7308, -0.7137],\n",
              "          ...,\n",
              "          [-0.6794, -0.6623, -0.6452,  ..., -0.6281, -0.6281, -0.6452],\n",
              "          [-0.6452, -0.6452, -0.6452,  ..., -0.6281, -0.6281, -0.6623],\n",
              "          [-0.6452, -0.6452, -0.6452,  ..., -0.6623, -0.6623, -0.6794]],\n",
              " \n",
              "         [[ 0.6954,  0.6954,  0.7129,  ...,  0.6429,  0.6429,  0.6429],\n",
              "          [ 0.6954,  0.6954,  0.6954,  ...,  0.6254,  0.6604,  0.6429],\n",
              "          [ 0.7129,  0.6954,  0.6779,  ...,  0.6254,  0.6254,  0.6429],\n",
              "          ...,\n",
              "          [ 0.6779,  0.6954,  0.7129,  ...,  0.7654,  0.7654,  0.7479],\n",
              "          [ 0.7129,  0.7129,  0.7129,  ...,  0.7654,  0.7654,  0.7304],\n",
              "          [ 0.7129,  0.7129,  0.7129,  ...,  0.7304,  0.7304,  0.7129]],\n",
              " \n",
              "         [[ 2.3263,  2.3263,  2.3437,  ...,  2.2914,  2.2914,  2.2914],\n",
              "          [ 2.3088,  2.3263,  2.3263,  ...,  2.2740,  2.3088,  2.2914],\n",
              "          [ 2.3263,  2.3088,  2.2914,  ...,  2.2740,  2.2740,  2.2914],\n",
              "          ...,\n",
              "          [ 2.3088,  2.3263,  2.3263,  ...,  2.3611,  2.3611,  2.3437],\n",
              "          [ 2.3611,  2.3437,  2.3088,  ...,  2.3611,  2.3611,  2.3263],\n",
              "          [ 2.3611,  2.3437,  2.3088,  ...,  2.3263,  2.3263,  2.3088]]]),\n",
              " 0)"
            ]
          },
          "execution_count": 13,
          "metadata": {},
          "output_type": "execute_result"
        }
      ],
      "source": [
        "train_ds[0]"
      ]
    },
    {
      "cell_type": "code",
      "execution_count": 12,
      "metadata": {
        "colab": {
          "base_uri": "https://localhost:8080/"
        },
        "id": "EDZEzEquJsCd",
        "outputId": "51d41958-a28b-4729-a2c0-389630ea3fc1"
      },
      "outputs": [
        {
          "data": {
            "text/plain": [
              "Dataset ImageFolder\n",
              "    Number of datapoints: 153\n",
              "    Root location: datasets/hymenoptera_data/val\n",
              "    StandardTransform\n",
              "Transform: Compose(\n",
              "               Resize(size=256, interpolation=bilinear, max_size=None, antialias=warn)\n",
              "               CenterCrop(size=(224, 224))\n",
              "               ToTensor()\n",
              "               Normalize(mean=[0.485, 0.456, 0.406], std=[0.229, 0.224, 0.225])\n",
              "           )"
            ]
          },
          "execution_count": 12,
          "metadata": {},
          "output_type": "execute_result"
        }
      ],
      "source": [
        "val_ds"
      ]
    },
    {
      "cell_type": "code",
      "execution_count": 14,
      "metadata": {
        "colab": {
          "base_uri": "https://localhost:8080/"
        },
        "id": "GFMYEu4QJ9FG",
        "outputId": "f6544eca-c16f-4123-aab9-04cfe5c35c84"
      },
      "outputs": [
        {
          "data": {
            "text/plain": [
              "(tensor([[[2.1975, 2.1975, 2.1462,  ..., 2.0263, 2.0092, 1.9235],\n",
              "          [2.2147, 2.1804, 2.1290,  ..., 2.0605, 2.0605, 2.0263],\n",
              "          [2.2147, 2.2147, 2.1119,  ..., 2.1633, 2.1119, 1.9235],\n",
              "          ...,\n",
              "          [1.6838, 1.6495, 1.4783,  ..., 1.4954, 1.5297, 0.9988],\n",
              "          [1.8037, 1.6153, 1.2557,  ..., 1.5810, 1.4269, 1.2214],\n",
              "          [1.8722, 1.6324, 1.1700,  ..., 1.8208, 1.6153, 1.1700]],\n",
              " \n",
              "         [[2.3761, 2.3761, 2.3761,  ..., 2.3060, 2.3060, 2.2010],\n",
              "          [2.3936, 2.3761, 2.3585,  ..., 2.3585, 2.3235, 2.2535],\n",
              "          [2.3936, 2.4111, 2.3585,  ..., 2.3761, 2.3585, 2.2185],\n",
              "          ...,\n",
              "          [2.0434, 2.0259, 1.9909,  ..., 1.8508, 1.8508, 1.3431],\n",
              "          [2.1835, 2.0784, 1.7808,  ..., 1.9209, 1.7283, 1.5357],\n",
              "          [2.2535, 2.1134, 1.6408,  ..., 2.1134, 1.8683, 1.4307]],\n",
              " \n",
              "         [[2.5703, 2.5703, 2.5877,  ..., 2.5703, 2.5703, 2.5180],\n",
              "          [2.6051, 2.5877, 2.5877,  ..., 2.5877, 2.5703, 2.5006],\n",
              "          [2.6051, 2.6226, 2.5877,  ..., 2.5877, 2.5703, 2.4308],\n",
              "          ...,\n",
              "          [2.3786, 2.3437, 2.2043,  ..., 2.2566, 2.3263, 1.8034],\n",
              "          [2.5006, 2.4134, 2.0474,  ..., 2.3088, 2.2043, 1.9951],\n",
              "          [2.5529, 2.5006, 1.9951,  ..., 2.4483, 2.3263, 1.8383]]]),\n",
              " 0)"
            ]
          },
          "execution_count": 14,
          "metadata": {},
          "output_type": "execute_result"
        }
      ],
      "source": [
        "val_ds[0]"
      ]
    }
  ],
  "metadata": {
    "accelerator": "GPU",
    "colab": {
      "provenance": []
    },
    "gpuClass": "standard",
    "kernelspec": {
      "display_name": "base",
      "language": "python",
      "name": "python3"
    },
    "language_info": {
      "codemirror_mode": {
        "name": "ipython",
        "version": 3
      },
      "file_extension": ".py",
      "mimetype": "text/x-python",
      "name": "python",
      "nbconvert_exporter": "python",
      "pygments_lexer": "ipython3",
      "version": "3.11.4"
    },
    "vscode": {
      "interpreter": {
        "hash": "bd97b8bffa4d3737e84826bc3d37be3046061822757ce35137ab82ad4c5a2016"
      }
    }
  },
  "nbformat": 4,
  "nbformat_minor": 0
}
